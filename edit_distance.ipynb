{
 "cells": [
  {
   "cell_type": "code",
   "execution_count": 15,
   "metadata": {},
   "outputs": [
    {
     "data": {
      "text/plain": [
       "'ab'"
      ]
     },
     "execution_count": 15,
     "metadata": {},
     "output_type": "execute_result"
    }
   ],
   "source": [
    "a = \"abc\"\n",
    "a[:-1]"
   ]
  },
  {
   "cell_type": "code",
   "execution_count": 37,
   "metadata": {},
   "outputs": [],
   "source": [
    "def ed(a, i, b, j, H):\n",
    "    \"\"\"\n",
    "    计算字符串 a 和 b之间的 edit distance\n",
    "    :param a: \n",
    "    :param i: len of curr a \n",
    "    :param b: \n",
    "    :param j: len of curr b\n",
    "    :param H: matrix stores ed between a[:i] and b[:j]\n",
    "    :return: ed between a[:i] and b[:j]\n",
    "    \"\"\"\n",
    "    if i == 0:\n",
    "        return j \n",
    "    if j == 0:\n",
    "        return i\n",
    "    if H[i-1][j-1] != -1:\n",
    "        # already computed a[:i+1] and b[:j+1]\n",
    "        return H[i-1][j-1]\n",
    "    if a[i-1] == b[j-1]:\n",
    "        result = ed(a, i-1, b, j-1, H)\n",
    "    elif i >= 2 and j >= 2 and a[i-1] == b[j-2] and a[i-2] == b[j-1]:\n",
    "        # last two characters are transposed\n",
    "        result = 1 + min(ed(a, i-2, b, j-2, H), ed(a, i, b, j-1, H), ed(a, i-1, b, j, H))\n",
    "    else:\n",
    "        result = 1 + min(ed(a, i-1, b, j-1, H), ed(a, i, b, j-1, H), ed(a, i-1, b, j, H))\n",
    "    H[i-1][j-1] = result\n",
    "    return result"
   ]
  },
  {
   "cell_type": "code",
   "execution_count": 38,
   "metadata": {
    "collapsed": true
   },
   "outputs": [
    {
     "data": {
      "text/plain": [
       "3"
      ]
     },
     "execution_count": 38,
     "metadata": {},
     "output_type": "execute_result"
    }
   ],
   "source": [
    "H = [[-1 for _ in range(len(\"failing\"))] for _ in range(len(\"sailn\"))]\n",
    "ed(\"sailn\", len(\"sailn\"), \"failing\", len(\"failing\"), H)"
   ]
  },
  {
   "cell_type": "code",
   "execution_count": 39,
   "metadata": {},
   "outputs": [],
   "source": [
    "def cuted(origin, candidate, t):\n",
    "    m = len(origin)\n",
    "    n = len(candidate)\n",
    "    l = max(1, n-t)\n",
    "    u = min(m, n+t)\n",
    "    min_ed = n\n",
    "    H = [[-1 for _ in range(n)] for _ in range(m)]\n",
    "    for i in range(l, u+1):\n",
    "        new_ed = ed(origin, i+1,  candidate, n, H)\n",
    "        if min_ed > new_ed:\n",
    "            min_ed = new_ed\n",
    "    return min_ed\n"
   ]
  },
  {
   "cell_type": "code",
   "execution_count": 41,
   "metadata": {},
   "outputs": [],
   "source": [
    "cuted(\"reprter\", \"rept\", 1)"
   ]
  },
  {
   "cell_type": "code",
   "execution_count": 42,
   "metadata": {},
   "outputs": [],
   "source": [
    "import networkx as nx"
   ]
  },
  {
   "cell_type": "code",
   "execution_count": 58,
   "metadata": {},
   "outputs": [],
   "source": [
    "graph = nx.DiGraph()\n",
    "graph.add_edge(1,2)\n",
    "graph.add_edge(2,3,type=1)\n",
    "graph.add_edge(2,4,type=1)"
   ]
  },
  {
   "cell_type": "code",
   "execution_count": 74,
   "metadata": {},
   "outputs": [],
   "source": [
    "key=graph.adj[2].keys()"
   ]
  },
  {
   "cell_type": "code",
   "execution_count": 76,
   "metadata": {},
   "outputs": [],
   "source": [
    "class A:\n",
    "    def __index__(self):\n",
    "        pass"
   ]
  },
  {
   "cell_type": "code",
   "execution_count": 77,
   "metadata": {},
   "outputs": [],
   "source": [
    "a = A()\n",
    "a.attr = 1"
   ]
  },
  {
   "cell_type": "code",
   "execution_count": 78,
   "metadata": {},
   "outputs": [
    {
     "data": {
      "text/plain": [
       "1"
      ]
     },
     "execution_count": 78,
     "metadata": {},
     "output_type": "execute_result"
    }
   ],
   "source": [
    "a.attr"
   ]
  },
  {
   "cell_type": "code",
   "execution_count": null,
   "metadata": {},
   "outputs": [],
   "source": []
  }
 ],
 "metadata": {
  "kernelspec": {
   "display_name": "Python 2",
   "language": "python",
   "name": "python2"
  },
  "language_info": {
   "codemirror_mode": {
    "name": "ipython",
    "version": 2
   },
   "file_extension": ".py",
   "mimetype": "text/x-python",
   "name": "python",
   "nbconvert_exporter": "python",
   "pygments_lexer": "ipython2",
   "version": "2.7.6"
  }
 },
 "nbformat": 4,
 "nbformat_minor": 0
}
